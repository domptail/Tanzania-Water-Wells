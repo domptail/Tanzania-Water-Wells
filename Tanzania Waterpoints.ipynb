{
 "cells": [
  {
   "cell_type": "markdown",
   "metadata": {},
   "source": [
    "# Pump it Up: Data Mining the Water Table\n",
    "HOSTED BY DRIVENDATA"
   ]
  },
  {
   "cell_type": "markdown",
   "metadata": {},
   "source": [
    "## 0. Introduction\n",
    "The datasets are hosted by DrivenData: https://www.drivendata.org/competitions/7/pump-it-up-data-mining-the-water-table/data/\n",
    "\n",
    "The data consist of information (40 features) on water wells in Tanzania.\n",
    "The goal is to predict whether a well is \"functional\", \"functional but in need of repairs\", or \"non functional\".\n",
    "\n",
    "The datasets are:\n",
    "- Training set values (59,400 observations, 40 variables: id, date, location, installer, etc.)\n",
    "- Training set labels (59,400 observations, 2 variables: id, status_group)\n",
    "- Test set values (14,850 observations, 40 variables)"
   ]
  },
  {
   "cell_type": "markdown",
   "metadata": {},
   "source": [
    "## 1. Exploration and visualization of the data"
   ]
  },
  {
   "cell_type": "code",
   "execution_count": 16,
   "metadata": {
    "collapsed": false,
    "scrolled": true
   },
   "outputs": [
    {
     "data": {
      "text/html": [
       "<table>\n",
       "<thead><tr><th scope=col>id</th><th scope=col>amount_tsh</th><th scope=col>date_recorded</th><th scope=col>funder</th><th scope=col>gps_height</th><th scope=col>installer</th><th scope=col>longitude</th><th scope=col>latitude</th><th scope=col>wpt_name</th><th scope=col>num_private</th><th scope=col>...</th><th scope=col>payment_type</th><th scope=col>water_quality</th><th scope=col>quality_group</th><th scope=col>quantity</th><th scope=col>quantity_group</th><th scope=col>source</th><th scope=col>source_type</th><th scope=col>source_class</th><th scope=col>waterpoint_type</th><th scope=col>waterpoint_type_group</th></tr></thead>\n",
       "<tbody>\n",
       "\t<tr><td>50785                  </td><td>  0                    </td><td>2013-02-04             </td><td>Dmdd                   </td><td>1996                   </td><td>DMDD                   </td><td>35.29080               </td><td> -4.059696             </td><td>Dinamu Secondary School</td><td>0                      </td><td>...                    </td><td>never pay              </td><td>soft                   </td><td>good                   </td><td>seasonal               </td><td>seasonal               </td><td>rainwater harvesting   </td><td>rainwater harvesting   </td><td>surface                </td><td>other                  </td><td>other                  </td></tr>\n",
       "\t<tr><td>51630                  </td><td>  0                    </td><td>2013-02-04             </td><td>Government Of Tanzania </td><td>1569                   </td><td>DWE                    </td><td>36.65671               </td><td> -3.309214             </td><td>Kimnyak                </td><td>0                      </td><td>...                    </td><td>never pay              </td><td>soft                   </td><td>good                   </td><td>insufficient           </td><td>insufficient           </td><td>spring                 </td><td>spring                 </td><td>groundwater            </td><td>communal standpipe     </td><td>communal standpipe     </td></tr>\n",
       "\t<tr><td>17168                  </td><td>  0                    </td><td>2013-02-01             </td><td>                       </td><td>1567                   </td><td>                       </td><td>34.76786               </td><td> -5.004344             </td><td>Puma Secondary         </td><td>0                      </td><td>...                    </td><td>never pay              </td><td>soft                   </td><td>good                   </td><td>insufficient           </td><td>insufficient           </td><td>rainwater harvesting   </td><td>rainwater harvesting   </td><td>surface                </td><td>other                  </td><td>other                  </td></tr>\n",
       "\t<tr><td>45559                  </td><td>  0                    </td><td>2013-01-22             </td><td>Finn Water             </td><td> 267                   </td><td>FINN WATER             </td><td>38.05805               </td><td> -9.418672             </td><td>Kwa Mzee Pange         </td><td>0                      </td><td>...                    </td><td>unknown                </td><td>soft                   </td><td>good                   </td><td>dry                    </td><td>dry                    </td><td>shallow well           </td><td>shallow well           </td><td>groundwater            </td><td>other                  </td><td>other                  </td></tr>\n",
       "\t<tr><td>49871                  </td><td>500                    </td><td>2013-03-27             </td><td>Bruder                 </td><td>1260                   </td><td>BRUDER                 </td><td>35.00612               </td><td>-10.950412             </td><td>Kwa Mzee Turuka        </td><td>0                      </td><td>...                    </td><td>monthly                </td><td>soft                   </td><td>good                   </td><td>enough                 </td><td>enough                 </td><td>spring                 </td><td>spring                 </td><td>groundwater            </td><td>communal standpipe     </td><td>communal standpipe     </td></tr>\n",
       "\t<tr><td>52449                  </td><td>  0                    </td><td>2013-03-04             </td><td>Government Of Tanzania </td><td>1685                   </td><td>DWE                    </td><td>36.68528               </td><td> -3.302420             </td><td>Masaga                 </td><td>0                      </td><td>...                    </td><td>never pay              </td><td>soft                   </td><td>good                   </td><td>enough                 </td><td>enough                 </td><td>spring                 </td><td>spring                 </td><td>groundwater            </td><td>communal standpipe     </td><td>communal standpipe     </td></tr>\n",
       "</tbody>\n",
       "</table>\n"
      ],
      "text/latex": [
       "\\begin{tabular}{r|llllllllllllllllllllllllllllllllllllllll}\n",
       " id & amount\\_tsh & date\\_recorded & funder & gps\\_height & installer & longitude & latitude & wpt\\_name & num\\_private & ... & payment\\_type & water\\_quality & quality\\_group & quantity & quantity\\_group & source & source\\_type & source\\_class & waterpoint\\_type & waterpoint\\_type\\_group\\\\\n",
       "\\hline\n",
       "\t 50785                   &   0                     & 2013-02-04              & Dmdd                    & 1996                    & DMDD                    & 35.29080                &  -4.059696              & Dinamu Secondary School & 0                       & ...                     & never pay               & soft                    & good                    & seasonal                & seasonal                & rainwater harvesting    & rainwater harvesting    & surface                 & other                   & other                  \\\\\n",
       "\t 51630                   &   0                     & 2013-02-04              & Government Of Tanzania  & 1569                    & DWE                     & 36.65671                &  -3.309214              & Kimnyak                 & 0                       & ...                     & never pay               & soft                    & good                    & insufficient            & insufficient            & spring                  & spring                  & groundwater             & communal standpipe      & communal standpipe     \\\\\n",
       "\t 17168                   &   0                     & 2013-02-01              &                         & 1567                    &                         & 34.76786                &  -5.004344              & Puma Secondary          & 0                       & ...                     & never pay               & soft                    & good                    & insufficient            & insufficient            & rainwater harvesting    & rainwater harvesting    & surface                 & other                   & other                  \\\\\n",
       "\t 45559                   &   0                     & 2013-01-22              & Finn Water              &  267                    & FINN WATER              & 38.05805                &  -9.418672              & Kwa Mzee Pange          & 0                       & ...                     & unknown                 & soft                    & good                    & dry                     & dry                     & shallow well            & shallow well            & groundwater             & other                   & other                  \\\\\n",
       "\t 49871                   & 500                     & 2013-03-27              & Bruder                  & 1260                    & BRUDER                  & 35.00612                & -10.950412              & Kwa Mzee Turuka         & 0                       & ...                     & monthly                 & soft                    & good                    & enough                  & enough                  & spring                  & spring                  & groundwater             & communal standpipe      & communal standpipe     \\\\\n",
       "\t 52449                   &   0                     & 2013-03-04              & Government Of Tanzania  & 1685                    & DWE                     & 36.68528                &  -3.302420              & Masaga                  & 0                       & ...                     & never pay               & soft                    & good                    & enough                  & enough                  & spring                  & spring                  & groundwater             & communal standpipe      & communal standpipe     \\\\\n",
       "\\end{tabular}\n"
      ],
      "text/markdown": [
       "\n",
       "id | amount_tsh | date_recorded | funder | gps_height | installer | longitude | latitude | wpt_name | num_private | ... | payment_type | water_quality | quality_group | quantity | quantity_group | source | source_type | source_class | waterpoint_type | waterpoint_type_group | \n",
       "|---|---|---|---|---|---|\n",
       "| 50785                   |   0                     | 2013-02-04              | Dmdd                    | 1996                    | DMDD                    | 35.29080                |  -4.059696              | Dinamu Secondary School | 0                       | ...                     | never pay               | soft                    | good                    | seasonal                | seasonal                | rainwater harvesting    | rainwater harvesting    | surface                 | other                   | other                   | \n",
       "| 51630                   |   0                     | 2013-02-04              | Government Of Tanzania  | 1569                    | DWE                     | 36.65671                |  -3.309214              | Kimnyak                 | 0                       | ...                     | never pay               | soft                    | good                    | insufficient            | insufficient            | spring                  | spring                  | groundwater             | communal standpipe      | communal standpipe      | \n",
       "| 17168                   |   0                     | 2013-02-01              |                         | 1567                    |                         | 34.76786                |  -5.004344              | Puma Secondary          | 0                       | ...                     | never pay               | soft                    | good                    | insufficient            | insufficient            | rainwater harvesting    | rainwater harvesting    | surface                 | other                   | other                   | \n",
       "| 45559                   |   0                     | 2013-01-22              | Finn Water              |  267                    | FINN WATER              | 38.05805                |  -9.418672              | Kwa Mzee Pange          | 0                       | ...                     | unknown                 | soft                    | good                    | dry                     | dry                     | shallow well            | shallow well            | groundwater             | other                   | other                   | \n",
       "| 49871                   | 500                     | 2013-03-27              | Bruder                  | 1260                    | BRUDER                  | 35.00612                | -10.950412              | Kwa Mzee Turuka         | 0                       | ...                     | monthly                 | soft                    | good                    | enough                  | enough                  | spring                  | spring                  | groundwater             | communal standpipe      | communal standpipe      | \n",
       "| 52449                   |   0                     | 2013-03-04              | Government Of Tanzania  | 1685                    | DWE                     | 36.68528                |  -3.302420              | Masaga                  | 0                       | ...                     | never pay               | soft                    | good                    | enough                  | enough                  | spring                  | spring                  | groundwater             | communal standpipe      | communal standpipe      | \n",
       "\n",
       "\n"
      ],
      "text/plain": [
       "  id    amount_tsh date_recorded funder                 gps_height installer \n",
       "1 50785   0        2013-02-04    Dmdd                   1996       DMDD      \n",
       "2 51630   0        2013-02-04    Government Of Tanzania 1569       DWE       \n",
       "3 17168   0        2013-02-01                           1567                 \n",
       "4 45559   0        2013-01-22    Finn Water              267       FINN WATER\n",
       "5 49871 500        2013-03-27    Bruder                 1260       BRUDER    \n",
       "6 52449   0        2013-03-04    Government Of Tanzania 1685       DWE       \n",
       "  longitude latitude   wpt_name                num_private ... payment_type\n",
       "1 35.29080   -4.059696 Dinamu Secondary School 0           ... never pay   \n",
       "2 36.65671   -3.309214 Kimnyak                 0           ... never pay   \n",
       "3 34.76786   -5.004344 Puma Secondary          0           ... never pay   \n",
       "4 38.05805   -9.418672 Kwa Mzee Pange          0           ... unknown     \n",
       "5 35.00612  -10.950412 Kwa Mzee Turuka         0           ... monthly     \n",
       "6 36.68528   -3.302420 Masaga                  0           ... never pay   \n",
       "  water_quality quality_group quantity     quantity_group source              \n",
       "1 soft          good          seasonal     seasonal       rainwater harvesting\n",
       "2 soft          good          insufficient insufficient   spring              \n",
       "3 soft          good          insufficient insufficient   rainwater harvesting\n",
       "4 soft          good          dry          dry            shallow well        \n",
       "5 soft          good          enough       enough         spring              \n",
       "6 soft          good          enough       enough         spring              \n",
       "  source_type          source_class waterpoint_type    waterpoint_type_group\n",
       "1 rainwater harvesting surface      other              other                \n",
       "2 spring               groundwater  communal standpipe communal standpipe   \n",
       "3 rainwater harvesting surface      other              other                \n",
       "4 shallow well         groundwater  other              other                \n",
       "5 spring               groundwater  communal standpipe communal standpipe   \n",
       "6 spring               groundwater  communal standpipe communal standpipe   "
      ]
     },
     "metadata": {},
     "output_type": "display_data"
    },
    {
     "name": "stdout",
     "output_type": "stream",
     "text": [
      "'data.frame':\t14850 obs. of  40 variables:\n",
      " $ id                   : int  50785 51630 17168 45559 49871 52449 24806 28965 36301 54122 ...\n",
      " $ amount_tsh           : num  0 0 0 0 500 0 0 0 30 0 ...\n",
      " $ date_recorded        : Factor w/ 331 levels \"2001-03-26\",\"2004-01-04\",..: 256 256 253 243 307 284 35 246 244 298 ...\n",
      " $ funder               : Factor w/ 981 levels \"\",\"0\",\"A/co Germany\",..: 177 252 1 224 75 252 252 225 894 417 ...\n",
      " $ gps_height           : int  1996 1569 1567 267 1260 1685 550 234 584 1083 ...\n",
      " $ installer            : Factor w/ 1092 levels \"\",\"0\",\"AAR\",\"ABASIA\",..: 234 249 1 275 90 249 304 276 491 487 ...\n",
      " $ longitude            : num  35.3 36.7 34.8 38.1 35 ...\n",
      " $ latitude             : num  -4.06 -3.31 -5 -9.42 -10.95 ...\n",
      " $ wpt_name             : Factor w/ 10840 levels \"<Kwa Maluku\",..: 657 1781 9675 5596 5707 7901 9302 4691 5456 3032 ...\n",
      " $ num_private          : int  0 0 0 0 0 0 0 0 0 0 ...\n",
      " $ basin                : Factor w/ 9 levels \"Internal\",\"Lake Nyasa\",..: 1 6 1 8 8 6 7 8 8 6 ...\n",
      " $ subvillage           : Factor w/ 8444 levels \"\",\"'A' Kati\",..: 3918 2719 5400 2797 3546 4321 2429 1374 203 816 ...\n",
      " $ region               : Factor w/ 21 levels \"Arusha\",\"Dar es Salaam\",..: 9 1 19 8 17 1 4 13 13 7 ...\n",
      " $ region_code          : int  21 2 13 80 10 2 11 9 90 3 ...\n",
      " $ district_code        : int  3 2 2 43 3 2 7 4 33 7 ...\n",
      " $ lga                  : Factor w/ 125 levels \"Arusha Rural\",..: 64 1 110 50 62 1 35 117 89 107 ...\n",
      " $ ward                 : Factor w/ 1959 levels \"Aghondi\",\"Akheri\",..: 18 651 1678 1193 1076 347 932 1049 1218 1778 ...\n",
      " $ population           : int  321 300 500 250 60 200 600 1 40 1 ...\n",
      " $ public_meeting       : Factor w/ 3 levels \"\",\"False\",\"True\": 3 3 3 1 1 3 3 3 3 3 ...\n",
      " $ recorded_by          : Factor w/ 1 level \"GeoData Consultants Ltd\": 1 1 1 1 1 1 1 1 1 1 ...\n",
      " $ scheme_management    : Factor w/ 12 levels \"\",\"Company\",\"Other\",..: 4 8 8 8 10 8 8 10 8 10 ...\n",
      " $ scheme_name          : Factor w/ 1790 levels \"\",\"14 Kambarage\",..: 1 1670 1480 1 99 1647 1 96 1271 36 ...\n",
      " $ permit               : Factor w/ 3 levels \"\",\"False\",\"True\": 3 3 1 3 3 3 3 3 2 3 ...\n",
      " $ construction_year    : int  2012 2000 2010 1987 2000 1990 2007 1982 1997 2003 ...\n",
      " $ extraction_type      : Factor w/ 17 levels \"afridev\",\"cemo\",..: 10 4 10 10 4 4 5 14 4 4 ...\n",
      " $ extraction_type_group: Factor w/ 13 levels \"afridev\",\"gravity\",..: 7 2 7 7 2 2 3 11 2 2 ...\n",
      " $ extraction_type_class: Factor w/ 7 levels \"gravity\",\"handpump\",..: 4 1 4 4 1 1 2 6 1 1 ...\n",
      " $ management           : Factor w/ 12 levels \"company\",\"other\",..: 4 8 8 8 10 8 8 8 8 10 ...\n",
      " $ management_group     : Factor w/ 5 levels \"commercial\",\"other\",..: 3 5 5 5 5 5 5 5 5 5 ...\n",
      " $ payment              : Factor w/ 7 levels \"never pay\",\"other\",..: 1 1 1 7 4 1 1 1 5 4 ...\n",
      " $ payment_type         : Factor w/ 7 levels \"annually\",\"monthly\",..: 3 3 3 7 2 3 3 3 6 2 ...\n",
      " $ water_quality        : Factor w/ 8 levels \"coloured\",\"fluoride\",..: 7 7 7 7 7 7 5 7 7 7 ...\n",
      " $ quality_group        : Factor w/ 6 levels \"colored\",\"fluoride\",..: 3 3 3 3 3 3 5 3 3 3 ...\n",
      " $ quantity             : Factor w/ 5 levels \"dry\",\"enough\",..: 4 3 3 1 2 2 2 1 3 2 ...\n",
      " $ quantity_group       : Factor w/ 5 levels \"dry\",\"enough\",..: 4 3 3 1 2 2 2 1 3 2 ...\n",
      " $ source               : Factor w/ 10 levels \"dam\",\"hand dtw\",..: 6 9 6 8 9 9 4 4 9 9 ...\n",
      " $ source_type          : Factor w/ 7 levels \"borehole\",\"dam\",..: 4 7 4 6 7 7 1 1 7 7 ...\n",
      " $ source_class         : Factor w/ 3 levels \"groundwater\",..: 2 1 2 1 1 1 1 1 1 1 ...\n",
      " $ waterpoint_type      : Factor w/ 7 levels \"cattle trough\",..: 7 2 7 7 2 2 5 3 2 2 ...\n",
      " $ waterpoint_type_group: Factor w/ 6 levels \"cattle trough\",..: 6 2 6 6 2 2 4 2 2 2 ...\n"
     ]
    }
   ],
   "source": [
    "# Read the test dataset\n",
    "test <- read.csv('TestSetValues.csv')\n",
    "head(test)\n",
    "str(test)"
   ]
  },
  {
   "cell_type": "code",
   "execution_count": 8,
   "metadata": {
    "collapsed": false,
    "scrolled": true
   },
   "outputs": [
    {
     "data": {
      "text/html": [
       "<table>\n",
       "<thead><tr><th scope=col>id</th><th scope=col>amount_tsh</th><th scope=col>date_recorded</th><th scope=col>funder</th><th scope=col>gps_height</th><th scope=col>installer</th><th scope=col>longitude</th><th scope=col>latitude</th><th scope=col>wpt_name</th><th scope=col>num_private</th><th scope=col>...</th><th scope=col>payment_type</th><th scope=col>water_quality</th><th scope=col>quality_group</th><th scope=col>quantity</th><th scope=col>quantity_group</th><th scope=col>source</th><th scope=col>source_type</th><th scope=col>source_class</th><th scope=col>waterpoint_type</th><th scope=col>waterpoint_type_group</th></tr></thead>\n",
       "<tbody>\n",
       "\t<tr><td>69572                      </td><td>6000                       </td><td>2011-03-14                 </td><td>Roman                      </td><td>1390                       </td><td>Roman                      </td><td>34.93809                   </td><td> -9.856322                 </td><td>none                       </td><td>0                          </td><td>...                        </td><td>annually                   </td><td>soft                       </td><td>good                       </td><td>enough                     </td><td>enough                     </td><td>spring                     </td><td>spring                     </td><td>groundwater                </td><td>communal standpipe         </td><td>communal standpipe         </td></tr>\n",
       "\t<tr><td> 8776                      </td><td>   0                       </td><td>2013-03-06                 </td><td>Grumeti                    </td><td>1399                       </td><td>GRUMETI                    </td><td>34.69877                   </td><td> -2.147466                 </td><td>Zahanati                   </td><td>0                          </td><td>...                        </td><td>never pay                  </td><td>soft                       </td><td>good                       </td><td>insufficient               </td><td>insufficient               </td><td>rainwater harvesting       </td><td>rainwater harvesting       </td><td>surface                    </td><td>communal standpipe         </td><td>communal standpipe         </td></tr>\n",
       "\t<tr><td>34310                      </td><td>  25                       </td><td>2013-02-25                 </td><td>Lottery Club               </td><td> 686                       </td><td>World vision               </td><td>37.46066                   </td><td> -3.821329                 </td><td>Kwa Mahundi                </td><td>0                          </td><td>...                        </td><td>per bucket                 </td><td>soft                       </td><td>good                       </td><td>enough                     </td><td>enough                     </td><td>dam                        </td><td>dam                        </td><td>surface                    </td><td>communal standpipe multiple</td><td>communal standpipe         </td></tr>\n",
       "\t<tr><td>67743                      </td><td>   0                       </td><td>2013-01-28                 </td><td>Unicef                     </td><td> 263                       </td><td>UNICEF                     </td><td>38.48616                   </td><td>-11.155298                 </td><td>Zahanati Ya Nanyumbu       </td><td>0                          </td><td>...                        </td><td>never pay                  </td><td>soft                       </td><td>good                       </td><td>dry                        </td><td>dry                        </td><td>machine dbh                </td><td>borehole                   </td><td>groundwater                </td><td>communal standpipe multiple</td><td>communal standpipe         </td></tr>\n",
       "\t<tr><td>19728                      </td><td>   0                       </td><td>2011-07-13                 </td><td>Action In A                </td><td>   0                       </td><td>Artisan                    </td><td>31.13085                   </td><td> -1.825359                 </td><td>Shuleni                    </td><td>0                          </td><td>...                        </td><td>never pay                  </td><td>soft                       </td><td>good                       </td><td>seasonal                   </td><td>seasonal                   </td><td>rainwater harvesting       </td><td>rainwater harvesting       </td><td>surface                    </td><td>communal standpipe         </td><td>communal standpipe         </td></tr>\n",
       "\t<tr><td> 9944                      </td><td>  20                       </td><td>2011-03-13                 </td><td>Mkinga Distric Coun        </td><td>   0                       </td><td>DWE                        </td><td>39.17280                   </td><td> -4.765587                 </td><td>Tajiri                     </td><td>0                          </td><td>...                        </td><td>per bucket                 </td><td>salty                      </td><td>salty                      </td><td>enough                     </td><td>enough                     </td><td>other                      </td><td>other                      </td><td>unknown                    </td><td>communal standpipe multiple</td><td>communal standpipe         </td></tr>\n",
       "</tbody>\n",
       "</table>\n"
      ],
      "text/latex": [
       "\\begin{tabular}{r|llllllllllllllllllllllllllllllllllllllll}\n",
       " id & amount\\_tsh & date\\_recorded & funder & gps\\_height & installer & longitude & latitude & wpt\\_name & num\\_private & ... & payment\\_type & water\\_quality & quality\\_group & quantity & quantity\\_group & source & source\\_type & source\\_class & waterpoint\\_type & waterpoint\\_type\\_group\\\\\n",
       "\\hline\n",
       "\t 69572                       & 6000                        & 2011-03-14                  & Roman                       & 1390                        & Roman                       & 34.93809                    &  -9.856322                  & none                        & 0                           & ...                         & annually                    & soft                        & good                        & enough                      & enough                      & spring                      & spring                      & groundwater                 & communal standpipe          & communal standpipe         \\\\\n",
       "\t  8776                       &    0                        & 2013-03-06                  & Grumeti                     & 1399                        & GRUMETI                     & 34.69877                    &  -2.147466                  & Zahanati                    & 0                           & ...                         & never pay                   & soft                        & good                        & insufficient                & insufficient                & rainwater harvesting        & rainwater harvesting        & surface                     & communal standpipe          & communal standpipe         \\\\\n",
       "\t 34310                       &   25                        & 2013-02-25                  & Lottery Club                &  686                        & World vision                & 37.46066                    &  -3.821329                  & Kwa Mahundi                 & 0                           & ...                         & per bucket                  & soft                        & good                        & enough                      & enough                      & dam                         & dam                         & surface                     & communal standpipe multiple & communal standpipe         \\\\\n",
       "\t 67743                       &    0                        & 2013-01-28                  & Unicef                      &  263                        & UNICEF                      & 38.48616                    & -11.155298                  & Zahanati Ya Nanyumbu        & 0                           & ...                         & never pay                   & soft                        & good                        & dry                         & dry                         & machine dbh                 & borehole                    & groundwater                 & communal standpipe multiple & communal standpipe         \\\\\n",
       "\t 19728                       &    0                        & 2011-07-13                  & Action In A                 &    0                        & Artisan                     & 31.13085                    &  -1.825359                  & Shuleni                     & 0                           & ...                         & never pay                   & soft                        & good                        & seasonal                    & seasonal                    & rainwater harvesting        & rainwater harvesting        & surface                     & communal standpipe          & communal standpipe         \\\\\n",
       "\t  9944                       &   20                        & 2011-03-13                  & Mkinga Distric Coun         &    0                        & DWE                         & 39.17280                    &  -4.765587                  & Tajiri                      & 0                           & ...                         & per bucket                  & salty                       & salty                       & enough                      & enough                      & other                       & other                       & unknown                     & communal standpipe multiple & communal standpipe         \\\\\n",
       "\\end{tabular}\n"
      ],
      "text/markdown": [
       "\n",
       "id | amount_tsh | date_recorded | funder | gps_height | installer | longitude | latitude | wpt_name | num_private | ... | payment_type | water_quality | quality_group | quantity | quantity_group | source | source_type | source_class | waterpoint_type | waterpoint_type_group | \n",
       "|---|---|---|---|---|---|\n",
       "| 69572                       | 6000                        | 2011-03-14                  | Roman                       | 1390                        | Roman                       | 34.93809                    |  -9.856322                  | none                        | 0                           | ...                         | annually                    | soft                        | good                        | enough                      | enough                      | spring                      | spring                      | groundwater                 | communal standpipe          | communal standpipe          | \n",
       "|  8776                       |    0                        | 2013-03-06                  | Grumeti                     | 1399                        | GRUMETI                     | 34.69877                    |  -2.147466                  | Zahanati                    | 0                           | ...                         | never pay                   | soft                        | good                        | insufficient                | insufficient                | rainwater harvesting        | rainwater harvesting        | surface                     | communal standpipe          | communal standpipe          | \n",
       "| 34310                       |   25                        | 2013-02-25                  | Lottery Club                |  686                        | World vision                | 37.46066                    |  -3.821329                  | Kwa Mahundi                 | 0                           | ...                         | per bucket                  | soft                        | good                        | enough                      | enough                      | dam                         | dam                         | surface                     | communal standpipe multiple | communal standpipe          | \n",
       "| 67743                       |    0                        | 2013-01-28                  | Unicef                      |  263                        | UNICEF                      | 38.48616                    | -11.155298                  | Zahanati Ya Nanyumbu        | 0                           | ...                         | never pay                   | soft                        | good                        | dry                         | dry                         | machine dbh                 | borehole                    | groundwater                 | communal standpipe multiple | communal standpipe          | \n",
       "| 19728                       |    0                        | 2011-07-13                  | Action In A                 |    0                        | Artisan                     | 31.13085                    |  -1.825359                  | Shuleni                     | 0                           | ...                         | never pay                   | soft                        | good                        | seasonal                    | seasonal                    | rainwater harvesting        | rainwater harvesting        | surface                     | communal standpipe          | communal standpipe          | \n",
       "|  9944                       |   20                        | 2011-03-13                  | Mkinga Distric Coun         |    0                        | DWE                         | 39.17280                    |  -4.765587                  | Tajiri                      | 0                           | ...                         | per bucket                  | salty                       | salty                       | enough                      | enough                      | other                       | other                       | unknown                     | communal standpipe multiple | communal standpipe          | \n",
       "\n",
       "\n"
      ],
      "text/plain": [
       "  id    amount_tsh date_recorded funder              gps_height installer   \n",
       "1 69572 6000       2011-03-14    Roman               1390       Roman       \n",
       "2  8776    0       2013-03-06    Grumeti             1399       GRUMETI     \n",
       "3 34310   25       2013-02-25    Lottery Club         686       World vision\n",
       "4 67743    0       2013-01-28    Unicef               263       UNICEF      \n",
       "5 19728    0       2011-07-13    Action In A            0       Artisan     \n",
       "6  9944   20       2011-03-13    Mkinga Distric Coun    0       DWE         \n",
       "  longitude latitude   wpt_name             num_private ... payment_type\n",
       "1 34.93809   -9.856322 none                 0           ... annually    \n",
       "2 34.69877   -2.147466 Zahanati             0           ... never pay   \n",
       "3 37.46066   -3.821329 Kwa Mahundi          0           ... per bucket  \n",
       "4 38.48616  -11.155298 Zahanati Ya Nanyumbu 0           ... never pay   \n",
       "5 31.13085   -1.825359 Shuleni              0           ... never pay   \n",
       "6 39.17280   -4.765587 Tajiri               0           ... per bucket  \n",
       "  water_quality quality_group quantity     quantity_group source              \n",
       "1 soft          good          enough       enough         spring              \n",
       "2 soft          good          insufficient insufficient   rainwater harvesting\n",
       "3 soft          good          enough       enough         dam                 \n",
       "4 soft          good          dry          dry            machine dbh         \n",
       "5 soft          good          seasonal     seasonal       rainwater harvesting\n",
       "6 salty         salty         enough       enough         other               \n",
       "  source_type          source_class waterpoint_type            \n",
       "1 spring               groundwater  communal standpipe         \n",
       "2 rainwater harvesting surface      communal standpipe         \n",
       "3 dam                  surface      communal standpipe multiple\n",
       "4 borehole             groundwater  communal standpipe multiple\n",
       "5 rainwater harvesting surface      communal standpipe         \n",
       "6 other                unknown      communal standpipe multiple\n",
       "  waterpoint_type_group\n",
       "1 communal standpipe   \n",
       "2 communal standpipe   \n",
       "3 communal standpipe   \n",
       "4 communal standpipe   \n",
       "5 communal standpipe   \n",
       "6 communal standpipe   "
      ]
     },
     "metadata": {},
     "output_type": "display_data"
    },
    {
     "name": "stdout",
     "output_type": "stream",
     "text": [
      "'data.frame':\t59400 obs. of  40 variables:\n",
      " $ id                   : int  69572 8776 34310 67743 19728 9944 19816 54551 53934 46144 ...\n",
      " $ amount_tsh           : num  6000 0 25 0 0 20 0 0 0 0 ...\n",
      " $ date_recorded        : Factor w/ 356 levels \"2002-10-14\",\"2004-01-07\",..: 48 310 301 273 105 47 187 195 220 126 ...\n",
      " $ funder               : Factor w/ 1898 levels \"\",\"0\",\"A/co Germany\",..: 1371 471 827 1743 22 987 347 1418 1844 595 ...\n",
      " $ gps_height           : int  1390 1399 686 263 0 0 0 0 0 0 ...\n",
      " $ installer            : Factor w/ 2146 levels \"\",\"-\",\"0\",\"A.D.B\",..: 1557 593 2115 1927 119 435 446 435 2045 119 ...\n",
      " $ longitude            : num  34.9 34.7 37.5 38.5 31.1 ...\n",
      " $ latitude             : num  -9.86 -2.15 -3.82 -11.16 -1.83 ...\n",
      " $ wpt_name             : Factor w/ 37400 levels \"24\",\"A Kulwa\",..: 32437 37197 14574 37291 35531 36139 20674 36485 21733 25773 ...\n",
      " $ num_private          : int  0 0 0 0 0 0 0 0 0 0 ...\n",
      " $ basin                : Factor w/ 9 levels \"Internal\",\"Lake Nyasa\",..: 2 5 6 8 5 6 1 4 4 5 ...\n",
      " $ subvillage           : Factor w/ 19288 levels \"\",\"'A' Kati\",..: 11809 15840 9076 8984 7700 11813 3798 16345 3438 11445 ...\n",
      " $ region               : Factor w/ 21 levels \"Arusha\",\"Dar es Salaam\",..: 4 10 9 13 5 21 18 18 20 5 ...\n",
      " $ region_code          : int  11 20 21 90 18 4 17 17 14 18 ...\n",
      " $ district_code        : int  5 2 4 63 1 8 3 3 6 1 ...\n",
      " $ lga                  : Factor w/ 125 levels \"Arusha Rural\",..: 52 104 109 88 27 69 105 26 116 27 ...\n",
      " $ ward                 : Factor w/ 2092 levels \"Aghondi\",\"Akheri\",..: 1427 1577 1625 1572 1688 1323 1853 151 435 498 ...\n",
      " $ population           : int  109 280 250 58 0 1 0 0 0 0 ...\n",
      " $ public_meeting       : Factor w/ 3 levels \"\",\"False\",\"True\": 3 1 3 3 3 3 3 3 3 3 ...\n",
      " $ recorded_by          : Factor w/ 1 level \"GeoData Consultants Ltd\": 1 1 1 1 1 1 1 1 1 1 ...\n",
      " $ scheme_management    : Factor w/ 13 levels \"\",\"Company\",\"None\",..: 9 4 9 9 1 9 9 1 9 1 ...\n",
      " $ scheme_name          : Factor w/ 2697 levels \"\",\"14 Kambarage\",..: 2290 1 2168 1 1 2692 1 1 1 1 ...\n",
      " $ permit               : Factor w/ 3 levels \"\",\"False\",\"True\": 2 3 3 3 3 3 3 3 3 3 ...\n",
      " $ construction_year    : int  1999 2010 2009 1986 0 2009 0 0 0 0 ...\n",
      " $ extraction_type      : Factor w/ 18 levels \"afridev\",\"cemo\",..: 4 4 4 15 4 15 16 9 5 9 ...\n",
      " $ extraction_type_group: Factor w/ 13 levels \"afridev\",\"gravity\",..: 2 2 2 11 2 11 12 6 3 6 ...\n",
      " $ extraction_type_class: Factor w/ 7 levels \"gravity\",\"handpump\",..: 1 1 1 6 1 6 2 2 2 2 ...\n",
      " $ management           : Factor w/ 12 levels \"company\",\"other\",..: 8 12 8 8 2 8 8 12 8 8 ...\n",
      " $ management_group     : Factor w/ 5 levels \"commercial\",\"other\",..: 5 5 5 5 2 5 5 5 5 5 ...\n",
      " $ payment              : Factor w/ 7 levels \"never pay\",\"other\",..: 3 1 5 1 1 5 1 7 1 1 ...\n",
      " $ payment_type         : Factor w/ 7 levels \"annually\",\"monthly\",..: 1 3 6 3 3 6 3 7 3 3 ...\n",
      " $ water_quality        : Factor w/ 8 levels \"coloured\",\"fluoride\",..: 7 7 7 7 7 5 7 4 5 7 ...\n",
      " $ quality_group        : Factor w/ 6 levels \"colored\",\"fluoride\",..: 3 3 3 3 3 5 3 4 5 3 ...\n",
      " $ quantity             : Factor w/ 5 levels \"dry\",\"enough\",..: 2 3 2 1 4 2 2 2 4 2 ...\n",
      " $ quantity_group       : Factor w/ 5 levels \"dry\",\"enough\",..: 2 3 2 1 4 2 2 2 4 2 ...\n",
      " $ source               : Factor w/ 10 levels \"dam\",\"hand dtw\",..: 9 6 1 4 6 5 4 8 4 8 ...\n",
      " $ source_type          : Factor w/ 7 levels \"borehole\",\"dam\",..: 7 4 2 1 4 3 1 6 1 6 ...\n",
      " $ source_class         : Factor w/ 3 levels \"groundwater\",..: 1 2 2 1 2 3 1 1 1 1 ...\n",
      " $ waterpoint_type      : Factor w/ 7 levels \"cattle trough\",..: 2 2 3 3 2 3 5 5 5 5 ...\n",
      " $ waterpoint_type_group: Factor w/ 6 levels \"cattle trough\",..: 2 2 2 2 2 2 4 4 4 4 ...\n"
     ]
    }
   ],
   "source": [
    "# Read the training_values dataset\n",
    "training_values <- read.csv('TrainingSetValues.csv')\n",
    "head(training_values)\n",
    "str(training_values)"
   ]
  },
  {
   "cell_type": "code",
   "execution_count": 10,
   "metadata": {
    "collapsed": false
   },
   "outputs": [
    {
     "data": {
      "text/html": [
       "<table>\n",
       "<thead><tr><th scope=col>id</th><th scope=col>status_group</th></tr></thead>\n",
       "<tbody>\n",
       "\t<tr><td>69572         </td><td>functional    </td></tr>\n",
       "\t<tr><td> 8776         </td><td>functional    </td></tr>\n",
       "\t<tr><td>34310         </td><td>functional    </td></tr>\n",
       "\t<tr><td>67743         </td><td>non functional</td></tr>\n",
       "\t<tr><td>19728         </td><td>functional    </td></tr>\n",
       "\t<tr><td> 9944         </td><td>functional    </td></tr>\n",
       "</tbody>\n",
       "</table>\n"
      ],
      "text/latex": [
       "\\begin{tabular}{r|ll}\n",
       " id & status\\_group\\\\\n",
       "\\hline\n",
       "\t 69572          & functional    \\\\\n",
       "\t  8776          & functional    \\\\\n",
       "\t 34310          & functional    \\\\\n",
       "\t 67743          & non functional\\\\\n",
       "\t 19728          & functional    \\\\\n",
       "\t  9944          & functional    \\\\\n",
       "\\end{tabular}\n"
      ],
      "text/markdown": [
       "\n",
       "id | status_group | \n",
       "|---|---|---|---|---|---|\n",
       "| 69572          | functional     | \n",
       "|  8776          | functional     | \n",
       "| 34310          | functional     | \n",
       "| 67743          | non functional | \n",
       "| 19728          | functional     | \n",
       "|  9944          | functional     | \n",
       "\n",
       "\n"
      ],
      "text/plain": [
       "  id    status_group  \n",
       "1 69572 functional    \n",
       "2  8776 functional    \n",
       "3 34310 functional    \n",
       "4 67743 non functional\n",
       "5 19728 functional    \n",
       "6  9944 functional    "
      ]
     },
     "metadata": {},
     "output_type": "display_data"
    },
    {
     "name": "stdout",
     "output_type": "stream",
     "text": [
      "'data.frame':\t59400 obs. of  2 variables:\n",
      " $ id          : int  69572 8776 34310 67743 19728 9944 19816 54551 53934 46144 ...\n",
      " $ status_group: Factor w/ 3 levels \"functional\",\"functional needs repair\",..: 1 1 1 3 1 1 3 3 3 1 ...\n"
     ]
    }
   ],
   "source": [
    "# Read the training_labels dataset\n",
    "training_labels <- read.csv('TrainingSetLabels.csv')\n",
    "head(training_labels)\n",
    "str(training_labels)"
   ]
  },
  {
   "cell_type": "code",
   "execution_count": 11,
   "metadata": {
    "collapsed": false,
    "scrolled": true
   },
   "outputs": [
    {
     "name": "stderr",
     "output_type": "stream",
     "text": [
      "\n",
      "Attaching package: 'dplyr'\n",
      "\n",
      "The following objects are masked from 'package:stats':\n",
      "\n",
      "    filter, lag\n",
      "\n",
      "The following objects are masked from 'package:base':\n",
      "\n",
      "    intersect, setdiff, setequal, union\n",
      "\n"
     ]
    },
    {
     "data": {
      "text/html": [
       "<table>\n",
       "<thead><tr><th scope=col>id</th><th scope=col>amount_tsh</th><th scope=col>date_recorded</th><th scope=col>funder</th><th scope=col>gps_height</th><th scope=col>installer</th><th scope=col>longitude</th><th scope=col>latitude</th><th scope=col>wpt_name</th><th scope=col>num_private</th><th scope=col>...</th><th scope=col>water_quality</th><th scope=col>quality_group</th><th scope=col>quantity</th><th scope=col>quantity_group</th><th scope=col>source</th><th scope=col>source_type</th><th scope=col>source_class</th><th scope=col>waterpoint_type</th><th scope=col>waterpoint_type_group</th><th scope=col>status_group</th></tr></thead>\n",
       "<tbody>\n",
       "\t<tr><td>69572                      </td><td>6000                       </td><td>2011-03-14                 </td><td>Roman                      </td><td>1390                       </td><td>Roman                      </td><td>34.93809                   </td><td> -9.856322                 </td><td>none                       </td><td>0                          </td><td>...                        </td><td>soft                       </td><td>good                       </td><td>enough                     </td><td>enough                     </td><td>spring                     </td><td>spring                     </td><td>groundwater                </td><td>communal standpipe         </td><td>communal standpipe         </td><td>functional                 </td></tr>\n",
       "\t<tr><td> 8776                      </td><td>   0                       </td><td>2013-03-06                 </td><td>Grumeti                    </td><td>1399                       </td><td>GRUMETI                    </td><td>34.69877                   </td><td> -2.147466                 </td><td>Zahanati                   </td><td>0                          </td><td>...                        </td><td>soft                       </td><td>good                       </td><td>insufficient               </td><td>insufficient               </td><td>rainwater harvesting       </td><td>rainwater harvesting       </td><td>surface                    </td><td>communal standpipe         </td><td>communal standpipe         </td><td>functional                 </td></tr>\n",
       "\t<tr><td>34310                      </td><td>  25                       </td><td>2013-02-25                 </td><td>Lottery Club               </td><td> 686                       </td><td>World vision               </td><td>37.46066                   </td><td> -3.821329                 </td><td>Kwa Mahundi                </td><td>0                          </td><td>...                        </td><td>soft                       </td><td>good                       </td><td>enough                     </td><td>enough                     </td><td>dam                        </td><td>dam                        </td><td>surface                    </td><td>communal standpipe multiple</td><td>communal standpipe         </td><td>functional                 </td></tr>\n",
       "\t<tr><td>67743                      </td><td>   0                       </td><td>2013-01-28                 </td><td>Unicef                     </td><td> 263                       </td><td>UNICEF                     </td><td>38.48616                   </td><td>-11.155298                 </td><td>Zahanati Ya Nanyumbu       </td><td>0                          </td><td>...                        </td><td>soft                       </td><td>good                       </td><td>dry                        </td><td>dry                        </td><td>machine dbh                </td><td>borehole                   </td><td>groundwater                </td><td>communal standpipe multiple</td><td>communal standpipe         </td><td>non functional             </td></tr>\n",
       "\t<tr><td>19728                      </td><td>   0                       </td><td>2011-07-13                 </td><td>Action In A                </td><td>   0                       </td><td>Artisan                    </td><td>31.13085                   </td><td> -1.825359                 </td><td>Shuleni                    </td><td>0                          </td><td>...                        </td><td>soft                       </td><td>good                       </td><td>seasonal                   </td><td>seasonal                   </td><td>rainwater harvesting       </td><td>rainwater harvesting       </td><td>surface                    </td><td>communal standpipe         </td><td>communal standpipe         </td><td>functional                 </td></tr>\n",
       "\t<tr><td> 9944                      </td><td>  20                       </td><td>2011-03-13                 </td><td>Mkinga Distric Coun        </td><td>   0                       </td><td>DWE                        </td><td>39.17280                   </td><td> -4.765587                 </td><td>Tajiri                     </td><td>0                          </td><td>...                        </td><td>salty                      </td><td>salty                      </td><td>enough                     </td><td>enough                     </td><td>other                      </td><td>other                      </td><td>unknown                    </td><td>communal standpipe multiple</td><td>communal standpipe         </td><td>functional                 </td></tr>\n",
       "</tbody>\n",
       "</table>\n"
      ],
      "text/latex": [
       "\\begin{tabular}{r|lllllllllllllllllllllllllllllllllllllllll}\n",
       " id & amount\\_tsh & date\\_recorded & funder & gps\\_height & installer & longitude & latitude & wpt\\_name & num\\_private & ... & water\\_quality & quality\\_group & quantity & quantity\\_group & source & source\\_type & source\\_class & waterpoint\\_type & waterpoint\\_type\\_group & status\\_group\\\\\n",
       "\\hline\n",
       "\t 69572                       & 6000                        & 2011-03-14                  & Roman                       & 1390                        & Roman                       & 34.93809                    &  -9.856322                  & none                        & 0                           & ...                         & soft                        & good                        & enough                      & enough                      & spring                      & spring                      & groundwater                 & communal standpipe          & communal standpipe          & functional                 \\\\\n",
       "\t  8776                       &    0                        & 2013-03-06                  & Grumeti                     & 1399                        & GRUMETI                     & 34.69877                    &  -2.147466                  & Zahanati                    & 0                           & ...                         & soft                        & good                        & insufficient                & insufficient                & rainwater harvesting        & rainwater harvesting        & surface                     & communal standpipe          & communal standpipe          & functional                 \\\\\n",
       "\t 34310                       &   25                        & 2013-02-25                  & Lottery Club                &  686                        & World vision                & 37.46066                    &  -3.821329                  & Kwa Mahundi                 & 0                           & ...                         & soft                        & good                        & enough                      & enough                      & dam                         & dam                         & surface                     & communal standpipe multiple & communal standpipe          & functional                 \\\\\n",
       "\t 67743                       &    0                        & 2013-01-28                  & Unicef                      &  263                        & UNICEF                      & 38.48616                    & -11.155298                  & Zahanati Ya Nanyumbu        & 0                           & ...                         & soft                        & good                        & dry                         & dry                         & machine dbh                 & borehole                    & groundwater                 & communal standpipe multiple & communal standpipe          & non functional             \\\\\n",
       "\t 19728                       &    0                        & 2011-07-13                  & Action In A                 &    0                        & Artisan                     & 31.13085                    &  -1.825359                  & Shuleni                     & 0                           & ...                         & soft                        & good                        & seasonal                    & seasonal                    & rainwater harvesting        & rainwater harvesting        & surface                     & communal standpipe          & communal standpipe          & functional                 \\\\\n",
       "\t  9944                       &   20                        & 2011-03-13                  & Mkinga Distric Coun         &    0                        & DWE                         & 39.17280                    &  -4.765587                  & Tajiri                      & 0                           & ...                         & salty                       & salty                       & enough                      & enough                      & other                       & other                       & unknown                     & communal standpipe multiple & communal standpipe          & functional                 \\\\\n",
       "\\end{tabular}\n"
      ],
      "text/markdown": [
       "\n",
       "id | amount_tsh | date_recorded | funder | gps_height | installer | longitude | latitude | wpt_name | num_private | ... | water_quality | quality_group | quantity | quantity_group | source | source_type | source_class | waterpoint_type | waterpoint_type_group | status_group | \n",
       "|---|---|---|---|---|---|\n",
       "| 69572                       | 6000                        | 2011-03-14                  | Roman                       | 1390                        | Roman                       | 34.93809                    |  -9.856322                  | none                        | 0                           | ...                         | soft                        | good                        | enough                      | enough                      | spring                      | spring                      | groundwater                 | communal standpipe          | communal standpipe          | functional                  | \n",
       "|  8776                       |    0                        | 2013-03-06                  | Grumeti                     | 1399                        | GRUMETI                     | 34.69877                    |  -2.147466                  | Zahanati                    | 0                           | ...                         | soft                        | good                        | insufficient                | insufficient                | rainwater harvesting        | rainwater harvesting        | surface                     | communal standpipe          | communal standpipe          | functional                  | \n",
       "| 34310                       |   25                        | 2013-02-25                  | Lottery Club                |  686                        | World vision                | 37.46066                    |  -3.821329                  | Kwa Mahundi                 | 0                           | ...                         | soft                        | good                        | enough                      | enough                      | dam                         | dam                         | surface                     | communal standpipe multiple | communal standpipe          | functional                  | \n",
       "| 67743                       |    0                        | 2013-01-28                  | Unicef                      |  263                        | UNICEF                      | 38.48616                    | -11.155298                  | Zahanati Ya Nanyumbu        | 0                           | ...                         | soft                        | good                        | dry                         | dry                         | machine dbh                 | borehole                    | groundwater                 | communal standpipe multiple | communal standpipe          | non functional              | \n",
       "| 19728                       |    0                        | 2011-07-13                  | Action In A                 |    0                        | Artisan                     | 31.13085                    |  -1.825359                  | Shuleni                     | 0                           | ...                         | soft                        | good                        | seasonal                    | seasonal                    | rainwater harvesting        | rainwater harvesting        | surface                     | communal standpipe          | communal standpipe          | functional                  | \n",
       "|  9944                       |   20                        | 2011-03-13                  | Mkinga Distric Coun         |    0                        | DWE                         | 39.17280                    |  -4.765587                  | Tajiri                      | 0                           | ...                         | salty                       | salty                       | enough                      | enough                      | other                       | other                       | unknown                     | communal standpipe multiple | communal standpipe          | functional                  | \n",
       "\n",
       "\n"
      ],
      "text/plain": [
       "  id    amount_tsh date_recorded funder              gps_height installer   \n",
       "1 69572 6000       2011-03-14    Roman               1390       Roman       \n",
       "2  8776    0       2013-03-06    Grumeti             1399       GRUMETI     \n",
       "3 34310   25       2013-02-25    Lottery Club         686       World vision\n",
       "4 67743    0       2013-01-28    Unicef               263       UNICEF      \n",
       "5 19728    0       2011-07-13    Action In A            0       Artisan     \n",
       "6  9944   20       2011-03-13    Mkinga Distric Coun    0       DWE         \n",
       "  longitude latitude   wpt_name             num_private ... water_quality\n",
       "1 34.93809   -9.856322 none                 0           ... soft         \n",
       "2 34.69877   -2.147466 Zahanati             0           ... soft         \n",
       "3 37.46066   -3.821329 Kwa Mahundi          0           ... soft         \n",
       "4 38.48616  -11.155298 Zahanati Ya Nanyumbu 0           ... soft         \n",
       "5 31.13085   -1.825359 Shuleni              0           ... soft         \n",
       "6 39.17280   -4.765587 Tajiri               0           ... salty        \n",
       "  quality_group quantity     quantity_group source              \n",
       "1 good          enough       enough         spring              \n",
       "2 good          insufficient insufficient   rainwater harvesting\n",
       "3 good          enough       enough         dam                 \n",
       "4 good          dry          dry            machine dbh         \n",
       "5 good          seasonal     seasonal       rainwater harvesting\n",
       "6 salty         enough       enough         other               \n",
       "  source_type          source_class waterpoint_type            \n",
       "1 spring               groundwater  communal standpipe         \n",
       "2 rainwater harvesting surface      communal standpipe         \n",
       "3 dam                  surface      communal standpipe multiple\n",
       "4 borehole             groundwater  communal standpipe multiple\n",
       "5 rainwater harvesting surface      communal standpipe         \n",
       "6 other                unknown      communal standpipe multiple\n",
       "  waterpoint_type_group status_group  \n",
       "1 communal standpipe    functional    \n",
       "2 communal standpipe    functional    \n",
       "3 communal standpipe    functional    \n",
       "4 communal standpipe    non functional\n",
       "5 communal standpipe    functional    \n",
       "6 communal standpipe    functional    "
      ]
     },
     "metadata": {},
     "output_type": "display_data"
    },
    {
     "name": "stdout",
     "output_type": "stream",
     "text": [
      "'data.frame':\t59400 obs. of  41 variables:\n",
      " $ id                   : int  69572 8776 34310 67743 19728 9944 19816 54551 53934 46144 ...\n",
      " $ amount_tsh           : num  6000 0 25 0 0 20 0 0 0 0 ...\n",
      " $ date_recorded        : Factor w/ 356 levels \"2002-10-14\",\"2004-01-07\",..: 48 310 301 273 105 47 187 195 220 126 ...\n",
      " $ funder               : Factor w/ 1898 levels \"\",\"0\",\"A/co Germany\",..: 1371 471 827 1743 22 987 347 1418 1844 595 ...\n",
      " $ gps_height           : int  1390 1399 686 263 0 0 0 0 0 0 ...\n",
      " $ installer            : Factor w/ 2146 levels \"\",\"-\",\"0\",\"A.D.B\",..: 1557 593 2115 1927 119 435 446 435 2045 119 ...\n",
      " $ longitude            : num  34.9 34.7 37.5 38.5 31.1 ...\n",
      " $ latitude             : num  -9.86 -2.15 -3.82 -11.16 -1.83 ...\n",
      " $ wpt_name             : Factor w/ 37400 levels \"24\",\"A Kulwa\",..: 32437 37197 14574 37291 35531 36139 20674 36485 21733 25773 ...\n",
      " $ num_private          : int  0 0 0 0 0 0 0 0 0 0 ...\n",
      " $ basin                : Factor w/ 9 levels \"Internal\",\"Lake Nyasa\",..: 2 5 6 8 5 6 1 4 4 5 ...\n",
      " $ subvillage           : Factor w/ 19288 levels \"\",\"'A' Kati\",..: 11809 15840 9076 8984 7700 11813 3798 16345 3438 11445 ...\n",
      " $ region               : Factor w/ 21 levels \"Arusha\",\"Dar es Salaam\",..: 4 10 9 13 5 21 18 18 20 5 ...\n",
      " $ region_code          : int  11 20 21 90 18 4 17 17 14 18 ...\n",
      " $ district_code        : int  5 2 4 63 1 8 3 3 6 1 ...\n",
      " $ lga                  : Factor w/ 125 levels \"Arusha Rural\",..: 52 104 109 88 27 69 105 26 116 27 ...\n",
      " $ ward                 : Factor w/ 2092 levels \"Aghondi\",\"Akheri\",..: 1427 1577 1625 1572 1688 1323 1853 151 435 498 ...\n",
      " $ population           : int  109 280 250 58 0 1 0 0 0 0 ...\n",
      " $ public_meeting       : Factor w/ 3 levels \"\",\"False\",\"True\": 3 1 3 3 3 3 3 3 3 3 ...\n",
      " $ recorded_by          : Factor w/ 1 level \"GeoData Consultants Ltd\": 1 1 1 1 1 1 1 1 1 1 ...\n",
      " $ scheme_management    : Factor w/ 13 levels \"\",\"Company\",\"None\",..: 9 4 9 9 1 9 9 1 9 1 ...\n",
      " $ scheme_name          : Factor w/ 2697 levels \"\",\"14 Kambarage\",..: 2290 1 2168 1 1 2692 1 1 1 1 ...\n",
      " $ permit               : Factor w/ 3 levels \"\",\"False\",\"True\": 2 3 3 3 3 3 3 3 3 3 ...\n",
      " $ construction_year    : int  1999 2010 2009 1986 0 2009 0 0 0 0 ...\n",
      " $ extraction_type      : Factor w/ 18 levels \"afridev\",\"cemo\",..: 4 4 4 15 4 15 16 9 5 9 ...\n",
      " $ extraction_type_group: Factor w/ 13 levels \"afridev\",\"gravity\",..: 2 2 2 11 2 11 12 6 3 6 ...\n",
      " $ extraction_type_class: Factor w/ 7 levels \"gravity\",\"handpump\",..: 1 1 1 6 1 6 2 2 2 2 ...\n",
      " $ management           : Factor w/ 12 levels \"company\",\"other\",..: 8 12 8 8 2 8 8 12 8 8 ...\n",
      " $ management_group     : Factor w/ 5 levels \"commercial\",\"other\",..: 5 5 5 5 2 5 5 5 5 5 ...\n",
      " $ payment              : Factor w/ 7 levels \"never pay\",\"other\",..: 3 1 5 1 1 5 1 7 1 1 ...\n",
      " $ payment_type         : Factor w/ 7 levels \"annually\",\"monthly\",..: 1 3 6 3 3 6 3 7 3 3 ...\n",
      " $ water_quality        : Factor w/ 8 levels \"coloured\",\"fluoride\",..: 7 7 7 7 7 5 7 4 5 7 ...\n",
      " $ quality_group        : Factor w/ 6 levels \"colored\",\"fluoride\",..: 3 3 3 3 3 5 3 4 5 3 ...\n",
      " $ quantity             : Factor w/ 5 levels \"dry\",\"enough\",..: 2 3 2 1 4 2 2 2 4 2 ...\n",
      " $ quantity_group       : Factor w/ 5 levels \"dry\",\"enough\",..: 2 3 2 1 4 2 2 2 4 2 ...\n",
      " $ source               : Factor w/ 10 levels \"dam\",\"hand dtw\",..: 9 6 1 4 6 5 4 8 4 8 ...\n",
      " $ source_type          : Factor w/ 7 levels \"borehole\",\"dam\",..: 7 4 2 1 4 3 1 6 1 6 ...\n",
      " $ source_class         : Factor w/ 3 levels \"groundwater\",..: 1 2 2 1 2 3 1 1 1 1 ...\n",
      " $ waterpoint_type      : Factor w/ 7 levels \"cattle trough\",..: 2 2 3 3 2 3 5 5 5 5 ...\n",
      " $ waterpoint_type_group: Factor w/ 6 levels \"cattle trough\",..: 2 2 2 2 2 2 4 4 4 4 ...\n",
      " $ status_group         : Factor w/ 3 levels \"functional\",\"functional needs repair\",..: 1 1 1 3 1 1 3 3 3 1 ...\n"
     ]
    }
   ],
   "source": [
    "# Combine (join) the training_values and training_labels datasets\n",
    "library(dplyr)\n",
    "training <- dplyr::left_join(training_values, training_labels, by = \"id\")\n",
    "head(training)\n",
    "str(training)"
   ]
  },
  {
   "cell_type": "code",
   "execution_count": 15,
   "metadata": {
    "collapsed": false
   },
   "outputs": [
    {
     "data": {
      "text/plain": [
       "\n",
       "             functional functional needs repair          non functional \n",
       "                  32259                    4317                   22824 "
      ]
     },
     "metadata": {},
     "output_type": "display_data"
    },
    {
     "data": {
      "text/plain": [
       "\n",
       "             functional functional needs repair          non functional \n",
       "             0.54308081              0.07267677              0.38424242 "
      ]
     },
     "metadata": {},
     "output_type": "display_data"
    },
    {
     "data": {},
     "metadata": {},
     "output_type": "display_data"
    },
    {
     "data": {
      "image/png": "[encoded data removed]",
      "text/plain": [
       "plot without title"
      ]
     },
     "metadata": {},
     "output_type": "display_data"
    }
   ],
   "source": [
    "# Look at the distribution of labels (as a table) \n",
    "table(training$status_group)\n",
    "\n",
    "# Look at the distribution of labels (as a table with percentage) \n",
    "prop.table(table(training$status_group))\n",
    "\n",
    "# Look at the distribution of labels (as a bar plot)\n",
    "library(ggplot2)\n",
    "ggplot(training, aes(x = training$status_group)) + \n",
    "    geom_bar() +\n",
    "    xlab(\"Status\")"
   ]
  },
  {
   "cell_type": "code",
   "execution_count": null,
   "metadata": {
    "collapsed": true
   },
   "outputs": [],
   "source": [
    "# Look at the distribution of labels (as a table) \n",
    "table(training$status_group)\n",
    "\n",
    "# Look at the distribution of labels (as a table with percentage) \n",
    "prop.table(table(training$status_group))\n",
    "\n",
    "# Look at the distribution of labels (as a bar plot)\n",
    "library(ggplot2)\n",
    "ggplot(training, aes(x = training$status_group)) + \n",
    "    geom_bar() +\n",
    "    xlab(\"Status\")"
   ]
  },
  {
   "cell_type": "code",
   "execution_count": null,
   "metadata": {
    "collapsed": true
   },
   "outputs": [],
   "source": []
  },
  {
   "cell_type": "code",
   "execution_count": null,
   "metadata": {
    "collapsed": true
   },
   "outputs": [],
   "source": []
  },
  {
   "cell_type": "code",
   "execution_count": null,
   "metadata": {
    "collapsed": true
   },
   "outputs": [],
   "source": []
  },
  {
   "cell_type": "code",
   "execution_count": null,
   "metadata": {
    "collapsed": true
   },
   "outputs": [],
   "source": []
  },
  {
   "cell_type": "code",
   "execution_count": null,
   "metadata": {
    "collapsed": true
   },
   "outputs": [],
   "source": []
  },
  {
   "cell_type": "code",
   "execution_count": null,
   "metadata": {
    "collapsed": true
   },
   "outputs": [],
   "source": []
  }
 ],
 "metadata": {
  "kernelspec": {
   "display_name": "R",
   "language": "R",
   "name": "ir"
  },
  "language_info": {
   "codemirror_mode": "r",
   "file_extension": ".r",
   "mimetype": "text/x-r-source",
   "name": "R",
   "pygments_lexer": "r",
   "version": "3.3.2"
  }
 },
 "nbformat": 4,
 "nbformat_minor": 2
}
